{
  "nbformat": 4,
  "nbformat_minor": 0,
  "metadata": {
    "colab": {
      "provenance": [],
      "toc_visible": true
    },
    "kernelspec": {
      "name": "python3",
      "display_name": "Python 3"
    },
    "language_info": {
      "name": "python"
    }
  },
  "cells": [
    {
      "cell_type": "markdown",
      "source": [
        "# 応用演習2(pyhon)\n",
        "\n",
        "\n",
        "---\n",
        "\n",
        "　この演習では、実際にPythonに触れてみます。Pythonの仕様を理解するというよりは、Pythonに慣れることで抵抗をなくすことを目標にします。\n",
        "\n",
        "---\n",
        "\n"
      ],
      "metadata": {
        "id": "ho2IHXsL_lSt"
      }
    },
    {
      "cell_type": "markdown",
      "source": [
        "インデント\n",
        "\n",
        "\n",
        "> C言語では、int main(void){}のように、ブロックを\"{}\"で囲って表現しました。一方、Pythonでは、インデントを使ってブロックを表します。インデントは、文字の先頭にスペースを挿入します。スペースの数は任意ですが、(Tabと同じ)4つが推奨されてます。\n",
        "        \n",
        "        if (True):\n",
        "            print(\"Hello\")\n",
        "        ____\n",
        "        4つ分のスペース\n",
        "\n"
      ],
      "metadata": {
        "id": "QhrmnTPt4rY0"
      }
    },
    {
      "cell_type": "markdown",
      "source": [
        "変数の定義\n",
        "\n",
        "\n",
        "> 型を定義せずに、値を代入して定義します。\n"
      ],
      "metadata": {
        "id": "hJc1WhddFSjA"
      }
    },
    {
      "cell_type": "code",
      "source": [
        "val = 5\n",
        "char = \"Hello\"\n",
        "# list\n",
        "data = [1,2,3]\n",
        "# 2次元リスト\n",
        "mat_2d = [[1,2,3],[2,4,6]]\n",
        "# bool\n",
        "check = True"
      ],
      "metadata": {
        "id": "vv-NzcEbFSTC"
      },
      "execution_count": null,
      "outputs": []
    },
    {
      "cell_type": "markdown",
      "source": [
        "print関数\n",
        "\n",
        "\n",
        "> 文字や数値、配列を表示できます。\n",
        "\n",
        "\n",
        "\n",
        "\n"
      ],
      "metadata": {
        "id": "qugR3D3sBF_j"
      }
    },
    {
      "cell_type": "code",
      "execution_count": null,
      "metadata": {
        "id": "qp07Fdav_gGL",
        "colab": {
          "base_uri": "https://localhost:8080/"
        },
        "outputId": "c1f3ef0a-7048-4b16-d55b-2ac9247394be"
      },
      "outputs": [
        {
          "output_type": "stream",
          "name": "stdout",
          "text": [
            "Hi, Mike\n",
            "Hi, Mike\n",
            "Hi, Mike\n",
            "Hi, Mike\n",
            "Hi, Mike\n"
          ]
        }
      ],
      "source": [
        "#変数定義\n",
        "name = \"Mike\"\n",
        "\n",
        "#print5種\n",
        "print(\"Hi, Mike\")\n",
        "print(\"Hi\"+\",\"+\" \"+name)\n",
        "print(\"Hi,\",name)\n",
        "print(f\"Hi, {name}\")\n",
        "print(\"Hi, {}\".format(name))"
      ]
    },
    {
      "cell_type": "markdown",
      "source": [
        "if文\n",
        "\n",
        "\n",
        ">    \n",
        "    if (条件式):\n",
        "        処理１..\n",
        "    else:\n",
        "        処理2\n"
      ],
      "metadata": {
        "id": "gYziAtDCEBOZ"
      }
    },
    {
      "cell_type": "code",
      "source": [
        "num = int(input())\n",
        "if (num & 0x1):\n",
        "    print(f\"{num}は奇数です\")\n",
        "else:\n",
        "    print(f\"{num}は偶数です\")"
      ],
      "metadata": {
        "colab": {
          "base_uri": "https://localhost:8080/"
        },
        "id": "QF3M6sYsDDYT",
        "outputId": "05e11361-ce96-4c4e-fc16-cac9f30e0825"
      },
      "execution_count": null,
      "outputs": [
        {
          "output_type": "stream",
          "name": "stdout",
          "text": [
            "121\n",
            "121は奇数です\n"
          ]
        }
      ]
    },
    {
      "cell_type": "markdown",
      "source": [
        "for文\n",
        "\n",
        "\n",
        ">     for 変数 in オブジェクト:\n",
        "        処理\n",
        "\n"
      ],
      "metadata": {
        "id": "boxOwzXLGSIq"
      }
    },
    {
      "cell_type": "code",
      "source": [
        "num = int(input())\n",
        "count = 0\n",
        "for i in range(num):\n",
        "  if (i & 0x1):\n",
        "      count += 1\n",
        "print(\"偶数は{}個,奇数は{}個です。\".format((num-count),count))"
      ],
      "metadata": {
        "colab": {
          "base_uri": "https://localhost:8080/"
        },
        "id": "SrmA6lAdE7mG",
        "outputId": "21944e5b-65ef-4893-bf55-040945771021"
      },
      "execution_count": null,
      "outputs": [
        {
          "output_type": "stream",
          "name": "stdout",
          "text": [
            "10\n",
            "偶数は5個,奇数は5個です。\n"
          ]
        }
      ]
    },
    {
      "cell_type": "markdown",
      "source": [
        "while文\n",
        "\n",
        "\n",
        ">     while(条件式):\n",
        "         処理\n",
        "\n"
      ],
      "metadata": {
        "id": "qRWX9H2QHsJE"
      }
    },
    {
      "cell_type": "code",
      "source": [
        "while(True):\n",
        "    print(\"止まりません\")"
      ],
      "metadata": {
        "id": "gL5PHumOHbub"
      },
      "execution_count": null,
      "outputs": []
    },
    {
      "cell_type": "markdown",
      "source": [
        "関数の定義\n",
        "\n",
        ">     def 関数名(引数1, ...):\n",
        "        処理\n",
        "        return 返り値\n",
        "\n",
        "\n"
      ],
      "metadata": {
        "id": "fqe5Q9n5IFQL"
      }
    },
    {
      "cell_type": "code",
      "source": [
        "def sum_list(data):\n",
        "    sum = 0\n",
        "    for x in data:\n",
        "        sum += x\n",
        "    return sum\n",
        "\n",
        "data = [1,2,3,4]\n",
        "sum_data = sum_list(data)\n",
        "print(sum_data)"
      ],
      "metadata": {
        "colab": {
          "base_uri": "https://localhost:8080/"
        },
        "id": "6FxM1li0H0Yq",
        "outputId": "668b6eb8-1fa2-44e0-d3ce-adfa6d1c5dfa"
      },
      "execution_count": null,
      "outputs": [
        {
          "output_type": "stream",
          "name": "stdout",
          "text": [
            "10\n"
          ]
        }
      ]
    },
    {
      "cell_type": "markdown",
      "source": [
        "class\n",
        "\n",
        "\n",
        ">classはデータや関数をまとめて管理することができます。コードの可読性、安全性を高めます。他にも、別のクラスを継承して機能を受けづくことができます。機械学習ライブラリを使用すると頻繁に目する機会があります。\n"
      ],
      "metadata": {
        "id": "knm5nzUnJ8--"
      }
    },
    {
      "cell_type": "code",
      "source": [
        "class SumIntList():\n",
        "  def __init__(self,data):\n",
        "      self.data = data\n",
        "      self.__list_checker()\n",
        "  def sum_list(self):\n",
        "      sum = 0\n",
        "      for x in self.data:\n",
        "          self.__elem_checker(x)\n",
        "          sum += x\n",
        "      return sum\n",
        "  def __elem_checker(self,x):\n",
        "    if (type(x) != int):\n",
        "        raise Exception(f\"Error : {x} is not int\")\n",
        "  def __list_checker(self):\n",
        "    if (type(self.data) != list):\n",
        "        raise Exception(f\"Error : Data is not int\")\n",
        "\n",
        "data = [1,2,3,4]\n",
        "list_data = SumIntList(data)\n",
        "print(list_data.sum_list())\n"
      ],
      "metadata": {
        "colab": {
          "base_uri": "https://localhost:8080/"
        },
        "id": "RmFm6zAiJLJi",
        "outputId": "21abb2fa-76e8-4375-9835-e3f67b16259d"
      },
      "execution_count": null,
      "outputs": [
        {
          "output_type": "stream",
          "name": "stdout",
          "text": [
            "10\n"
          ]
        }
      ]
    },
    {
      "cell_type": "markdown",
      "source": [
        "---\n",
        "\n",
        "> 練習\n",
        "\n",
        "1.  任意の入力した整数に対し、奇数だけを加算していく処理を関数を使って実行しましょう。(例：　入力 5 => 1+3+5=9)  \n",
        "2.  バブルソートをpythonで実装して data = [3,8,2,1,7,6,4,9] をソートしてみましょう。\n",
        "3.  %timeit を使ってバブルソートの所要時間を計測しましょう。また、Pythonの組み込み関数sort()と比較して、結果と所要時間を比べてみましょう。\n",
        "\n",
        "\n",
        "\n",
        "> > data=[3,8,2,1,7,6,4,9]\n",
        "\n",
        "\n",
        "> >組み込み関数 data.sort()\n",
        "\n",
        "\n",
        "> >%timeit -n 1000 data.sort() vs $timeit -n 1000 bubble_sort(data)\n",
        "\n",
        "\n",
        "\n",
        "\n",
        "\n",
        "\n",
        "---\n",
        "\n",
        "\n"
      ],
      "metadata": {
        "id": "REzv1EEAO5lw"
      }
    },
    {
      "cell_type": "code",
      "source": [],
      "metadata": {
        "id": "n-vufKYipsFX"
      },
      "execution_count": null,
      "outputs": []
    }
  ]
}